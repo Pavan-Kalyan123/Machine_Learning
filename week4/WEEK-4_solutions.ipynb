{
 "cells": [
  {
   "cell_type": "markdown",
   "id": "b70a432c-3c27-428d-b2bd-e0a2464eb612",
   "metadata": {},
   "source": [
    "## Housing Case Study\n",
    "Problem Statement:\n",
    "\n",
    "Consider a real estate company that has a dataset containing the prices of properties in the Delhi region. It wishes to use the data to optimise the sale prices of the properties based on important factors such as area, bedrooms, parking, etc.\n",
    "\n",
    "Essentially, the company wants —\n",
    "\n",
    "To identify the variables affecting house prices, e.g. area, number of rooms, bathrooms, etc.\n",
    "\n",
    "To create a linear model that quantitatively relates house prices with variables such as number of rooms, area, number of bathrooms, etc.\n",
    "\n",
    "To know the accuracy of the model, i.e. how well these variables can predict house prices."
   ]
  },
  {
   "cell_type": "code",
   "execution_count": 18,
   "id": "e13c132d-b22a-4ada-b425-ace2d957fb5b",
   "metadata": {},
   "outputs": [
    {
     "data": {
      "text/html": [
       "<div>\n",
       "<style scoped>\n",
       "    .dataframe tbody tr th:only-of-type {\n",
       "        vertical-align: middle;\n",
       "    }\n",
       "\n",
       "    .dataframe tbody tr th {\n",
       "        vertical-align: top;\n",
       "    }\n",
       "\n",
       "    .dataframe thead th {\n",
       "        text-align: right;\n",
       "    }\n",
       "</style>\n",
       "<table border=\"1\" class=\"dataframe\">\n",
       "  <thead>\n",
       "    <tr style=\"text-align: right;\">\n",
       "      <th></th>\n",
       "      <th>price</th>\n",
       "      <th>area</th>\n",
       "      <th>bedrooms</th>\n",
       "      <th>bathrooms</th>\n",
       "      <th>stories</th>\n",
       "      <th>mainroad</th>\n",
       "      <th>guestroom</th>\n",
       "      <th>basement</th>\n",
       "      <th>hotwaterheating</th>\n",
       "      <th>airconditioning</th>\n",
       "      <th>parking</th>\n",
       "      <th>prefarea</th>\n",
       "      <th>furnishingstatus</th>\n",
       "    </tr>\n",
       "  </thead>\n",
       "  <tbody>\n",
       "    <tr>\n",
       "      <th>0</th>\n",
       "      <td>13300000</td>\n",
       "      <td>7420</td>\n",
       "      <td>4</td>\n",
       "      <td>2</td>\n",
       "      <td>3</td>\n",
       "      <td>yes</td>\n",
       "      <td>no</td>\n",
       "      <td>no</td>\n",
       "      <td>no</td>\n",
       "      <td>yes</td>\n",
       "      <td>2</td>\n",
       "      <td>yes</td>\n",
       "      <td>furnished</td>\n",
       "    </tr>\n",
       "    <tr>\n",
       "      <th>1</th>\n",
       "      <td>12250000</td>\n",
       "      <td>8960</td>\n",
       "      <td>4</td>\n",
       "      <td>4</td>\n",
       "      <td>4</td>\n",
       "      <td>yes</td>\n",
       "      <td>no</td>\n",
       "      <td>no</td>\n",
       "      <td>no</td>\n",
       "      <td>yes</td>\n",
       "      <td>3</td>\n",
       "      <td>no</td>\n",
       "      <td>furnished</td>\n",
       "    </tr>\n",
       "    <tr>\n",
       "      <th>2</th>\n",
       "      <td>12250000</td>\n",
       "      <td>9960</td>\n",
       "      <td>3</td>\n",
       "      <td>2</td>\n",
       "      <td>2</td>\n",
       "      <td>yes</td>\n",
       "      <td>no</td>\n",
       "      <td>yes</td>\n",
       "      <td>no</td>\n",
       "      <td>no</td>\n",
       "      <td>2</td>\n",
       "      <td>yes</td>\n",
       "      <td>semi-furnished</td>\n",
       "    </tr>\n",
       "    <tr>\n",
       "      <th>3</th>\n",
       "      <td>12215000</td>\n",
       "      <td>7500</td>\n",
       "      <td>4</td>\n",
       "      <td>2</td>\n",
       "      <td>2</td>\n",
       "      <td>yes</td>\n",
       "      <td>no</td>\n",
       "      <td>yes</td>\n",
       "      <td>no</td>\n",
       "      <td>yes</td>\n",
       "      <td>3</td>\n",
       "      <td>yes</td>\n",
       "      <td>furnished</td>\n",
       "    </tr>\n",
       "    <tr>\n",
       "      <th>4</th>\n",
       "      <td>11410000</td>\n",
       "      <td>7420</td>\n",
       "      <td>4</td>\n",
       "      <td>1</td>\n",
       "      <td>2</td>\n",
       "      <td>yes</td>\n",
       "      <td>yes</td>\n",
       "      <td>yes</td>\n",
       "      <td>no</td>\n",
       "      <td>yes</td>\n",
       "      <td>2</td>\n",
       "      <td>no</td>\n",
       "      <td>furnished</td>\n",
       "    </tr>\n",
       "    <tr>\n",
       "      <th>...</th>\n",
       "      <td>...</td>\n",
       "      <td>...</td>\n",
       "      <td>...</td>\n",
       "      <td>...</td>\n",
       "      <td>...</td>\n",
       "      <td>...</td>\n",
       "      <td>...</td>\n",
       "      <td>...</td>\n",
       "      <td>...</td>\n",
       "      <td>...</td>\n",
       "      <td>...</td>\n",
       "      <td>...</td>\n",
       "      <td>...</td>\n",
       "    </tr>\n",
       "    <tr>\n",
       "      <th>540</th>\n",
       "      <td>1820000</td>\n",
       "      <td>3000</td>\n",
       "      <td>2</td>\n",
       "      <td>1</td>\n",
       "      <td>1</td>\n",
       "      <td>yes</td>\n",
       "      <td>no</td>\n",
       "      <td>yes</td>\n",
       "      <td>no</td>\n",
       "      <td>no</td>\n",
       "      <td>2</td>\n",
       "      <td>no</td>\n",
       "      <td>unfurnished</td>\n",
       "    </tr>\n",
       "    <tr>\n",
       "      <th>541</th>\n",
       "      <td>1767150</td>\n",
       "      <td>2400</td>\n",
       "      <td>3</td>\n",
       "      <td>1</td>\n",
       "      <td>1</td>\n",
       "      <td>no</td>\n",
       "      <td>no</td>\n",
       "      <td>no</td>\n",
       "      <td>no</td>\n",
       "      <td>no</td>\n",
       "      <td>0</td>\n",
       "      <td>no</td>\n",
       "      <td>semi-furnished</td>\n",
       "    </tr>\n",
       "    <tr>\n",
       "      <th>542</th>\n",
       "      <td>1750000</td>\n",
       "      <td>3620</td>\n",
       "      <td>2</td>\n",
       "      <td>1</td>\n",
       "      <td>1</td>\n",
       "      <td>yes</td>\n",
       "      <td>no</td>\n",
       "      <td>no</td>\n",
       "      <td>no</td>\n",
       "      <td>no</td>\n",
       "      <td>0</td>\n",
       "      <td>no</td>\n",
       "      <td>unfurnished</td>\n",
       "    </tr>\n",
       "    <tr>\n",
       "      <th>543</th>\n",
       "      <td>1750000</td>\n",
       "      <td>2910</td>\n",
       "      <td>3</td>\n",
       "      <td>1</td>\n",
       "      <td>1</td>\n",
       "      <td>no</td>\n",
       "      <td>no</td>\n",
       "      <td>no</td>\n",
       "      <td>no</td>\n",
       "      <td>no</td>\n",
       "      <td>0</td>\n",
       "      <td>no</td>\n",
       "      <td>furnished</td>\n",
       "    </tr>\n",
       "    <tr>\n",
       "      <th>544</th>\n",
       "      <td>1750000</td>\n",
       "      <td>3850</td>\n",
       "      <td>3</td>\n",
       "      <td>1</td>\n",
       "      <td>2</td>\n",
       "      <td>yes</td>\n",
       "      <td>no</td>\n",
       "      <td>no</td>\n",
       "      <td>no</td>\n",
       "      <td>no</td>\n",
       "      <td>0</td>\n",
       "      <td>no</td>\n",
       "      <td>unfurnished</td>\n",
       "    </tr>\n",
       "  </tbody>\n",
       "</table>\n",
       "<p>545 rows × 13 columns</p>\n",
       "</div>"
      ],
      "text/plain": [
       "        price  area  bedrooms  bathrooms  stories mainroad guestroom basement  \\\n",
       "0    13300000  7420         4          2        3      yes        no       no   \n",
       "1    12250000  8960         4          4        4      yes        no       no   \n",
       "2    12250000  9960         3          2        2      yes        no      yes   \n",
       "3    12215000  7500         4          2        2      yes        no      yes   \n",
       "4    11410000  7420         4          1        2      yes       yes      yes   \n",
       "..        ...   ...       ...        ...      ...      ...       ...      ...   \n",
       "540   1820000  3000         2          1        1      yes        no      yes   \n",
       "541   1767150  2400         3          1        1       no        no       no   \n",
       "542   1750000  3620         2          1        1      yes        no       no   \n",
       "543   1750000  2910         3          1        1       no        no       no   \n",
       "544   1750000  3850         3          1        2      yes        no       no   \n",
       "\n",
       "    hotwaterheating airconditioning  parking prefarea furnishingstatus  \n",
       "0                no             yes        2      yes        furnished  \n",
       "1                no             yes        3       no        furnished  \n",
       "2                no              no        2      yes   semi-furnished  \n",
       "3                no             yes        3      yes        furnished  \n",
       "4                no             yes        2       no        furnished  \n",
       "..              ...             ...      ...      ...              ...  \n",
       "540              no              no        2       no      unfurnished  \n",
       "541              no              no        0       no   semi-furnished  \n",
       "542              no              no        0       no      unfurnished  \n",
       "543              no              no        0       no        furnished  \n",
       "544              no              no        0       no      unfurnished  \n",
       "\n",
       "[545 rows x 13 columns]"
      ]
     },
     "execution_count": 18,
     "metadata": {},
     "output_type": "execute_result"
    }
   ],
   "source": [
    "#1 Import the dataset (Housing.csv) and look at the top five rows\n",
    "import pandas as pd\n",
    "df = pd.read_csv('Housing.csv')\n",
    "df"
   ]
  },
  {
   "cell_type": "code",
   "execution_count": 19,
   "id": "0b429f32-4c68-43ad-8fd1-2fe90503fd88",
   "metadata": {},
   "outputs": [
    {
     "data": {
      "text/plain": [
       "(545, 13)"
      ]
     },
     "execution_count": 19,
     "metadata": {},
     "output_type": "execute_result"
    }
   ],
   "source": [
    "#2 Check the shape of the DataFrame (rows, columns)\n",
    "df.shape"
   ]
  },
  {
   "cell_type": "code",
   "execution_count": 20,
   "id": "661fff1a-6c1f-4876-9a5b-c886c0aad902",
   "metadata": {},
   "outputs": [
    {
     "data": {
      "text/plain": [
       "price                int64\n",
       "area                 int64\n",
       "bedrooms             int64\n",
       "bathrooms            int64\n",
       "stories              int64\n",
       "mainroad            object\n",
       "guestroom           object\n",
       "basement            object\n",
       "hotwaterheating     object\n",
       "airconditioning     object\n",
       "parking              int64\n",
       "prefarea            object\n",
       "furnishingstatus    object\n",
       "dtype: object"
      ]
     },
     "execution_count": 20,
     "metadata": {},
     "output_type": "execute_result"
    }
   ],
   "source": [
    "#3 Look at the data types of the columns\n",
    "df.dtypes"
   ]
  },
  {
   "cell_type": "code",
   "execution_count": 21,
   "id": "cb86b308-69c4-4aec-a9fd-6d74857468ec",
   "metadata": {},
   "outputs": [
    {
     "name": "stdout",
     "output_type": "stream",
     "text": [
      "price               0\n",
      "area                0\n",
      "bedrooms            0\n",
      "bathrooms           0\n",
      "stories             0\n",
      "mainroad            0\n",
      "guestroom           0\n",
      "basement            0\n",
      "hotwaterheating     0\n",
      "airconditioning     0\n",
      "parking             0\n",
      "prefarea            0\n",
      "furnishingstatus    0\n",
      "dtype: int64\n"
     ]
    }
   ],
   "source": [
    "#4 Check for missing  values if any, replace with appropriate values\n",
    "print(df.isnull().sum())\n",
    "#df.fillna(df.mean(), inplace=True) to replace with mean\n"
   ]
  },
  {
   "cell_type": "code",
   "execution_count": 29,
   "id": "e03d9624-c3db-4ae4-a7af-bf570b956c19",
   "metadata": {},
   "outputs": [
    {
     "name": "stdout",
     "output_type": "stream",
     "text": [
      "       area  bedrooms  bathrooms   stories  mainroad  guestroom  basement  \\\n",
      "0  1.046726  1.403419   1.421812  1.378217  0.405623  -0.465315 -0.734539   \n",
      "1  1.757010  1.403419   5.405809  2.532024  0.405623  -0.465315 -0.734539   \n",
      "2  2.218232  0.047278   1.421812  0.224410  0.405623  -0.465315  1.361397   \n",
      "3  1.083624  1.403419   1.421812  0.224410  0.405623  -0.465315  1.361397   \n",
      "4  1.046726  1.403419  -0.570187  0.224410  0.405623   2.149083  1.361397   \n",
      "\n",
      "   hotwaterheating  airconditioning   parking  prefarea  furnishingstatus  \n",
      "0        -0.219265         1.472618  1.517692  1.804941         -1.406286  \n",
      "1        -0.219265         1.472618  2.679409 -0.554035         -1.406286  \n",
      "2        -0.219265        -0.679063  1.517692  1.804941         -0.091662  \n",
      "3        -0.219265         1.472618  2.679409  1.804941         -1.406286  \n",
      "4        -0.219265         1.472618  1.517692 -0.554035         -1.406286  \n",
      "0    4.566365\n",
      "1    4.004484\n",
      "2    4.004484\n",
      "3    3.985755\n",
      "4    3.554979\n",
      "Name: price, dtype: float64\n"
     ]
    }
   ],
   "source": [
    "#5 Prepare  X (independent variables) and y (dependent variable)\n",
    "y = df['price']\n",
    "X = df.drop(columns=['price'])#except x all are independent\n",
    "#X= df.iloc[:,0]\n",
    "#y = df.iloc[:,1:]\n",
    "print(X.head()) \n",
    "print(y.head())"
   ]
  },
  {
   "cell_type": "code",
   "execution_count": 23,
   "id": "41009947-bf5b-4e15-beb0-5cfc761d8b7d",
   "metadata": {
    "scrolled": true
   },
   "outputs": [
    {
     "data": {
      "image/png": "[encoded data removed]",
      "text/plain": [
       "<Figure size 432x288 with 4 Axes>"
      ]
     },
     "metadata": {
      "needs_background": "light"
     },
     "output_type": "display_data"
    }
   ],
   "source": [
    "#6 Visualise the relationship between the independent variables and the depenedent variable using scatterplots\n",
    "\n",
    "import seaborn as sns\n",
    "import matplotlib.pyplot as plt\n",
    "\n",
    "# Assuming df is your dataset DataFrame\n",
    "# df = pd.read_csv('your_dataset.csv')  # load your dataset if it's in a CSV file\n",
    "\n",
    "# Visualizing the relationship between independent variables and the dependent variable (price)\n",
    "plt.subplot(2,2,1)\n",
    "plt.scatter(df.iloc[:,1],df.iloc[:,0])\n",
    "plt.subplot(2,2,2)\n",
    "plt.scatter(df.iloc[:,2],df.iloc[:,0])\n",
    "plt.subplot(2,2,3)\n",
    "plt.scatter(df.iloc[:,3],df.iloc[:,0])\n",
    "\n",
    "plt.subplot(2,2,4)\n",
    "plt.scatter(df.iloc[:,4],df.iloc[:,0])\n",
    "\n",
    "plt.show()"
   ]
  },
  {
   "cell_type": "code",
   "execution_count": 24,
   "id": "19f90195-0633-4388-9e6e-9e82ffffd6a1",
   "metadata": {},
   "outputs": [
    {
     "name": "stdout",
     "output_type": "stream",
     "text": [
      "        price  area  bedrooms  bathrooms  stories  mainroad  guestroom  \\\n",
      "0    13300000  7420         4          2        3         1          0   \n",
      "1    12250000  8960         4          4        4         1          0   \n",
      "2    12250000  9960         3          2        2         1          0   \n",
      "3    12215000  7500         4          2        2         1          0   \n",
      "4    11410000  7420         4          1        2         1          1   \n",
      "..        ...   ...       ...        ...      ...       ...        ...   \n",
      "540   1820000  3000         2          1        1         1          0   \n",
      "541   1767150  2400         3          1        1         0          0   \n",
      "542   1750000  3620         2          1        1         1          0   \n",
      "543   1750000  2910         3          1        1         0          0   \n",
      "544   1750000  3850         3          1        2         1          0   \n",
      "\n",
      "     basement  hotwaterheating  airconditioning  parking  prefarea  \\\n",
      "0           0                0                1        2         1   \n",
      "1           0                0                1        3         0   \n",
      "2           1                0                0        2         1   \n",
      "3           1                0                1        3         1   \n",
      "4           1                0                1        2         0   \n",
      "..        ...              ...              ...      ...       ...   \n",
      "540         1                0                0        2         0   \n",
      "541         0                0                0        0         0   \n",
      "542         0                0                0        0         0   \n",
      "543         0                0                0        0         0   \n",
      "544         0                0                0        0         0   \n",
      "\n",
      "     furnishingstatus  \n",
      "0                   0  \n",
      "1                   0  \n",
      "2                   1  \n",
      "3                   0  \n",
      "4                   0  \n",
      "..                ...  \n",
      "540                 2  \n",
      "541                 1  \n",
      "542                 2  \n",
      "543                 0  \n",
      "544                 2  \n",
      "\n",
      "[545 rows x 13 columns]\n"
     ]
    }
   ],
   "source": [
    "#7 Encoding categorical data in X\n",
    "\n",
    "\n",
    "# X_encoded = pd.get_dummies(X, drop_first=True)\n",
    "# print(X_encoded.head())     one hot encoding\n",
    "from sklearn.preprocessing import LabelEncoder\n",
    "\n",
    "# label_encoder = LabelEncoder()\n",
    "\n",
    "# df['furnishingstatus'] = label_encoder.fit_transform(df['furnishingstatus'])\n",
    "# df['mainroad'] = label_encoder.fit_transform(df['mainroad'])\n",
    "# df['guestroom'] = label_encoder.fit_transform(df['guestroom'])\n",
    "# df['basement'] = label_encoder.fit_transform(df['basement'])\n",
    "# df['hotwaterheating'] = label_encoder.fit_transform(df['hotwaterheating'])\n",
    "# df['airconditioning'] = label_encoder.fit_transform(df['airconditioning'])\n",
    "# df['prefarea'] = label_encoder.fit_transform(df['prefarea'])\n",
    "\n",
    "\n",
    "# print(df['furnishingstatus'])\n",
    "# print(df['mainroad'])\n",
    "\n",
    "le = LabelEncoder()\n",
    "data = df.select_dtypes(include = ['object']).columns\n",
    "for col in data:\n",
    "    df[col] = le.fit_transform(df[col])\n",
    "print(df)\n",
    "\n"
   ]
  },
  {
   "cell_type": "code",
   "execution_count": 25,
   "id": "8b91fa2d-0728-422e-91bf-81c6375b65a4",
   "metadata": {},
   "outputs": [
    {
     "name": "stdout",
     "output_type": "stream",
     "text": [
      "      price  area  bedrooms  bathrooms  stories  parking  furnishingstatus  \\\n",
      "0  13300000  7420         4          2        3        2                 0   \n",
      "1  12250000  8960         4          4        4        3                 0   \n",
      "2  12250000  9960         3          2        2        2                 1   \n",
      "3  12215000  7500         4          2        2        3                 0   \n",
      "4  11410000  7420         4          1        2        2                 0   \n",
      "\n",
      "   mainroad_0  mainroad_1  guestroom_0  guestroom_1  basement_0  basement_1  \\\n",
      "0       False        True         True        False        True       False   \n",
      "1       False        True         True        False        True       False   \n",
      "2       False        True         True        False       False        True   \n",
      "3       False        True         True        False       False        True   \n",
      "4       False        True        False         True       False        True   \n",
      "\n",
      "   hotwaterheating_0  hotwaterheating_1  prefarea_0  prefarea_1  \\\n",
      "0               True              False       False        True   \n",
      "1               True              False        True       False   \n",
      "2               True              False       False        True   \n",
      "3               True              False       False        True   \n",
      "4               True              False        True       False   \n",
      "\n",
      "   airconditioning_0  airconditioning_1  \n",
      "0              False               True  \n",
      "1              False               True  \n",
      "2               True              False  \n",
      "3              False               True  \n",
      "4              False               True  \n"
     ]
    }
   ],
   "source": [
    "#8  Avoiding the Dummy Variable Trap\n",
    "df_encoded = pd.get_dummies(df, columns=['mainroad','guestroom','basement','hotwaterheating','prefarea','airconditioning'])\n",
    "print(df_encoded.head())"
   ]
  },
  {
   "cell_type": "code",
   "execution_count": 26,
   "id": "488d83f7-f328-4710-b8be-d60605f18f41",
   "metadata": {},
   "outputs": [
    {
     "name": "stdout",
     "output_type": "stream",
     "text": [
      "      price      area  bedrooms  bathrooms   stories  mainroad  guestroom  \\\n",
      "0  4.566365  1.046726  1.403419   1.421812  1.378217  0.405623  -0.465315   \n",
      "1  4.004484  1.757010  1.403419   5.405809  2.532024  0.405623  -0.465315   \n",
      "2  4.004484  2.218232  0.047278   1.421812  0.224410  0.405623  -0.465315   \n",
      "3  3.985755  1.083624  1.403419   1.421812  0.224410  0.405623  -0.465315   \n",
      "4  3.554979  1.046726  1.403419  -0.570187  0.224410  0.405623   2.149083   \n",
      "\n",
      "   basement  hotwaterheating  airconditioning   parking  prefarea  \\\n",
      "0 -0.734539        -0.219265         1.472618  1.517692  1.804941   \n",
      "1 -0.734539        -0.219265         1.472618  2.679409 -0.554035   \n",
      "2  1.361397        -0.219265        -0.679063  1.517692  1.804941   \n",
      "3  1.361397        -0.219265         1.472618  2.679409  1.804941   \n",
      "4  1.361397        -0.219265         1.472618  1.517692 -0.554035   \n",
      "\n",
      "   furnishingstatus  \n",
      "0         -1.406286  \n",
      "1         -1.406286  \n",
      "2         -0.091662  \n",
      "3         -1.406286  \n",
      "4         -1.406286  \n"
     ]
    }
   ],
   "source": [
    "#9 Apply feature scaling on numerical variables\n",
    "from sklearn.preprocessing import StandardScaler  #or we can do normalization scaler(MinMaxScaler)\n",
    "\n",
    "# Assuming df is your dataset\n",
    "numeric_columns = df.select_dtypes(include=['int64', 'float64']).columns  # Get numerical columns\n",
    "\n",
    "# Initialize the StandardScaler\n",
    "scaler = StandardScaler()\n",
    "\n",
    "# Apply scaling to numerical columns\n",
    "df[numeric_columns] = scaler.fit_transform(df[numeric_columns])\n",
    "\n",
    "print(df.head())"
   ]
  },
  {
   "cell_type": "code",
   "execution_count": 30,
   "id": "1acf2436-7668-4eb9-9b9f-48d4a2976020",
   "metadata": {},
   "outputs": [
    {
     "name": "stdout",
     "output_type": "stream",
     "text": [
      "X_train shape: (381, 12)\n",
      "X_test shape: (164, 12)\n",
      "y_train shape: (381,)\n",
      "y_test shape: (164,)\n"
     ]
    }
   ],
   "source": [
    "#10 Split Data into Training and Testing Sets (70%-Train 30%-Test) - X_train, y_train, X_test, y_test\n",
    "from sklearn.model_selection import train_test_split\n",
    "\n",
    "# Assuming X (independent variables) and y (dependent variable) are already defined\n",
    "# X = df.drop(columns=['price'])  # Example if you haven't defined X and y yet\n",
    "# y = df['price']\n",
    "\n",
    "# Split the data into training and testing sets (70% train, 30% test)\n",
    "X_train, X_test, y_train, y_test = train_test_split(X, y, test_size=0.3, random_state=42)\n",
    "\n",
    "# Check the shape of the resulting sets\n",
    "print(\"X_train shape:\", X_train.shape)\n",
    "print(\"X_test shape:\", X_test.shape)\n",
    "print(\"y_train shape:\", y_train.shape)\n",
    "print(\"y_test shape:\", y_test.shape)"
   ]
  },
  {
   "cell_type": "code",
   "execution_count": 31,
   "id": "d011419c-d0e5-4186-8e0d-b5f1d42d3dbd",
   "metadata": {},
   "outputs": [
    {
     "name": "stdout",
     "output_type": "stream",
     "text": [
      "Coefficients: [ 0.29361062  0.03264667  0.30016789  0.19284469  0.0761076   0.05721609\n",
      "  0.12382289  0.06940264  0.16911829  0.14006844  0.11556489 -0.08060973]\n",
      "Intercept: 0.01402078885066511\n",
      "Predictions on training set: [ 0.30265032 -0.6457506  -0.19391226  0.88621998  0.84772632]\n"
     ]
    }
   ],
   "source": [
    "#11 Fitting Multiple Linear Regression to the Training\n",
    "from sklearn.linear_model import LinearRegression\n",
    "\n",
    "# Initialize the model\n",
    "regressor = LinearRegression()\n",
    "\n",
    "# Fit the model to the training data\n",
    "regressor.fit(X_train, y_train)\n",
    "\n",
    "# Print the coefficients (weights) and intercept\n",
    "print(\"Coefficients:\", regressor.coef_)\n",
    "print(\"Intercept:\", regressor.intercept_)\n",
    "\n",
    "# Predict on the training data (optional, if you want to see predictions)\n",
    "y_train_pred = regressor.predict(X_train)\n",
    "\n",
    "# Check the first few predicted values\n",
    "print(\"Predictions on training set:\", y_train_pred[:5])"
   ]
  },
  {
   "cell_type": "code",
   "execution_count": 32,
   "id": "2c57f32b-58dc-4a80-839b-b3cfa29ac3c4",
   "metadata": {},
   "outputs": [
    {
     "name": "stdout",
     "output_type": "stream",
     "text": [
      "Errors (y_pred - y_train) for the first 5 samples: 126   -0.293089\n",
      "363   -0.080269\n",
      "370    0.409029\n",
      "31    -1.058033\n",
      "113    0.143357\n",
      "Name: price, dtype: float64\n",
      "Mean error: 1.8649415636748036e-17\n"
     ]
    }
   ],
   "source": [
    "#12 Predict on the train set and calculate the error = y_pred - y_train\n",
    "# Predict on the train set\n",
    "y_pred = regressor.predict(X_train)\n",
    "\n",
    "# Calculate the error (difference between predicted and actual values)\n",
    "error = y_pred - y_train\n",
    "\n",
    "# Print the first few errors\n",
    "print(\"Errors (y_pred - y_train) for the first 5 samples:\", error[:5])\n",
    "\n",
    "# Optionally, you can check the mean error\n",
    "mean_error = error.mean()\n",
    "print(\"Mean error:\", mean_error)"
   ]
  },
  {
   "cell_type": "code",
   "execution_count": 38,
   "id": "af715af0-0022-4851-b3b0-ffd7898ef2ae",
   "metadata": {},
   "outputs": [
    {
     "data": {
      "image/png": "[encoded data removed]",
      "text/plain": [
       "<Figure size 576x432 with 1 Axes>"
      ]
     },
     "metadata": {
      "needs_background": "light"
     },
     "output_type": "display_data"
    }
   ],
   "source": [
    "#13  Residual plot - plot y_pred in x axis and errors in y axis\n",
    "import matplotlib.pyplot as plt\n",
    "\n",
    "# Plot residuals (errors) StandardScalervs predicted values (y_pred)\n",
    "plt.figure(figsize=(8, 6))\n",
    "plt.scatter(y_pred, error, color='blue', alpha=0.5)\n",
    "\n",
    "# Adding labels and title\n",
    "plt.title('Residual Plot: Predicted Values vs Errors')\n",
    "plt.xlabel('Predicted Values (y_pred)')\n",
    "plt.ylabel('Residuals (Errors)')\n",
    "\n",
    "# Show the plot\n",
    "plt.axhline( color='r', linestyle='--')  # Adding a horizontal line at 0 for reference\n",
    "plt.show()"
   ]
  },
  {
   "cell_type": "code",
   "execution_count": 39,
   "id": "588a7ea5-6745-4930-9d37-8cb25ec48ddb",
   "metadata": {},
   "outputs": [
    {
     "name": "stdout",
     "output_type": "stream",
     "text": [
      "Predictions on the test set: [ 0.34289709  1.24708501 -0.91574137 -0.15507064 -0.77633   ]\n"
     ]
    }
   ],
   "source": [
    "#14  Predic on the test set\n",
    "\n",
    "# Predict on the test set\n",
    "y_test_pred = regressor.predict(X_test)\n",
    "\n",
    "# Print the first few predictions\n",
    "print(\"Predictions on the test set:\", y_test_pred[:5])\n"
   ]
  },
  {
   "cell_type": "code",
   "execution_count": 44,
   "id": "0e896fc1-af23-4842-b710-223d0982666e",
   "metadata": {},
   "outputs": [
    {
     "data": {
      "image/png": "[encoded data removed]",
      "text/plain": [
       "<Figure size 576x432 with 1 Axes>"
      ]
     },
     "metadata": {
      "needs_background": "light"
     },
     "output_type": "display_data"
    }
   ],
   "source": [
    "#15 Residual plot - plot y_pred in x axis and errors in y axis\n",
    "import matplotlib.pyplot as plt\n",
    "\n",
    "# Calculate the errors (residuals) on the test set\n",
    "test_error = y_test_pred - y_test\n",
    "\n",
    "# Plot residuals (errors) vs predicted values (y_test_pred)\n",
    "plt.figure(figsize=(8, 6))\n",
    "plt.scatter(y_test_pred, test_error, color='blue', alpha=0.5)\n",
    "\n",
    "# Adding labels and title\n",
    "plt.title('Residual Plot: Predicted Values vs Errors (Test Set)')\n",
    "plt.xlabel('Predicted Values (y_test_pred)')\n",
    "plt.ylabel('Residuals (Errors)')\n",
    "\n",
    "# Show the plot\n",
    "plt.axhline(y=0, color='r', linestyle='--')  # Adding a horizontal line at 0 for reference\n",
    "plt.show()"
   ]
  },
  {
   "cell_type": "code",
   "execution_count": 42,
   "id": "aabaab50-706c-413f-ab29-47ede66917b1",
   "metadata": {},
   "outputs": [
    {
     "name": "stdout",
     "output_type": "stream",
     "text": [
      "Mean Squared Error (MSE): 0.43957411454200224\n",
      "R-squared (R²) value: 0.6435419628959107\n"
     ]
    }
   ],
   "source": [
    "#16 Print Mean Squared Error and R Squared Value\n",
    "from sklearn.metrics import mean_squared_error, r2_score\n",
    "\n",
    "# Calculate Mean Squared Error (MSE)\n",
    "mse = mean_squared_error(y_test, y_test_pred)\n",
    "\n",
    "# Calculate R-squared (R²) value\n",
    "r2 = r2_score(y_test, y_test_pred)\n",
    "\n",
    "# Print the results\n",
    "print(f\"Mean Squared Error (MSE): {mse}\")\n",
    "print(f\"R-squared (R²) value: {r2}\")"
   ]
  },
  {
   "cell_type": "code",
   "execution_count": 45,
   "id": "89e98b63-04b7-4a82-b324-6108cf4cd79a",
   "metadata": {},
   "outputs": [
    {
     "name": "stdout",
     "output_type": "stream",
     "text": [
      "Adjusted R² - X1: 0.3681699478636079\n",
      "Adjusted R² - X2: 0.48423879535674064\n",
      "Adjusted R² - X3: 0.5321560149819948\n"
     ]
    }
   ],
   "source": [
    "#17 Check  Adjusted R Squared Value(by selecting different no of input variables insted of all)\n",
    "from sklearn.linear_model import LinearRegression\n",
    "from sklearn.metrics import r2_score\n",
    "\n",
    "# Function to calculate adjusted R-squared\n",
    "def adjusted_r2(X, y):\n",
    "    model = LinearRegression().fit(X, y)\n",
    "    r2 = model.score(X, y)\n",
    "    n, p = X.shape\n",
    "    return 1 - (1 - r2) * (n - 1) / (n - p - 1)\n",
    "\n",
    "# Feature subsets\n",
    "adj_r2_X1 = adjusted_r2(X[['area', 'bedrooms']], y)\n",
    "adj_r2_X2 = adjusted_r2(X[['area', 'bedrooms', 'bathrooms']], y)\n",
    "adj_r2_X3 = adjusted_r2(X[['area', 'bedrooms', 'bathrooms', 'stories']], y)\n",
    "\n",
    "# Output results\n",
    "print(f\"Adjusted R² - X1: {adj_r2_X1}\")\n",
    "print(f\"Adjusted R² - X2: {adj_r2_X2}\")\n",
    "print(f\"Adjusted R² - X3: {adj_r2_X3}\")"
   ]
  },
  {
   "cell_type": "code",
   "execution_count": 46,
   "id": "fd3249d7",
   "metadata": {},
   "outputs": [
    {
     "name": "stdout",
     "output_type": "stream",
     "text": [
      "Adjusted R² - X1: 0.3681699478636079\n"
     ]
    }
   ],
   "source": [
    "from sklearn.linear_model import LinearRegression\n",
    "from sklearn.metrics import r2_score\n",
    "X1 = X[['area', 'bedrooms']]\n",
    "y_true = y\n",
    "\n",
    "# Model and adjusted R² calculations\n",
    "model = LinearRegression()\n",
    "\n",
    "model.fit(X1, y_true)\n",
    "r2 = model.score(X1, y_true)\n",
    "n, p = X1.shape\n",
    "adj_r2_X1 = 1 - (1 - r2) * (n - 1) / (n - p - 1)\n",
    "\n",
    "print(f\"Adjusted R² - X1: {adj_r2_X1}\")"
   ]
  },
  {
   "cell_type": "code",
   "execution_count": null,
   "id": "005adac8",
   "metadata": {},
   "outputs": [],
   "source": []
  }
 ],
 "metadata": {
  "kernelspec": {
   "display_name": "Python 3 (ipykernel)",
   "language": "python",
   "name": "python3"
  },
  "language_info": {
   "codemirror_mode": {
    "name": "ipython",
    "version": 3
   },
   "file_extension": ".py",
   "mimetype": "text/x-python",
   "name": "python",
   "nbconvert_exporter": "python",
   "pygments_lexer": "ipython3",
   "version": "3.10.12"
  }
 },
 "nbformat": 4,
 "nbformat_minor": 5
}
