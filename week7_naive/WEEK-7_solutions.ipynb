{
 "cells": [
  {
   "cell_type": "code",
   "execution_count": 1,
   "id": "0e92efce",
   "metadata": {},
   "outputs": [],
   "source": [
    "import numpy as np\n",
    "import pandas as pd\n",
    "import matplotlib.pyplot as plt\n",
    "from sklearn.feature_extraction.text import CountVectorizer"
   ]
  },
  {
   "cell_type": "code",
   "execution_count": 3,
   "id": "06390ed3",
   "metadata": {},
   "outputs": [],
   "source": [
    "df = pd.read_csv(\"newsgroups_train.csv\")"
   ]
  },
  {
   "cell_type": "code",
   "execution_count": 5,
   "id": "30aea606",
   "metadata": {},
   "outputs": [
    {
     "data": {
      "text/html": [
       "<div>\n",
       "<style scoped>\n",
       "    .dataframe tbody tr th:only-of-type {\n",
       "        vertical-align: middle;\n",
       "    }\n",
       "\n",
       "    .dataframe tbody tr th {\n",
       "        vertical-align: top;\n",
       "    }\n",
       "\n",
       "    .dataframe thead th {\n",
       "        text-align: right;\n",
       "    }\n",
       "</style>\n",
       "<table border=\"1\" class=\"dataframe\">\n",
       "  <thead>\n",
       "    <tr style=\"text-align: right;\">\n",
       "      <th></th>\n",
       "      <th>text</th>\n",
       "      <th>target</th>\n",
       "      <th>category</th>\n",
       "    </tr>\n",
       "  </thead>\n",
       "  <tbody>\n",
       "    <tr>\n",
       "      <th>0</th>\n",
       "      <td>From: degroff@netcom.com (21012d)\\nSubject: Re...</td>\n",
       "      <td>2</td>\n",
       "      <td>sci.space</td>\n",
       "    </tr>\n",
       "    <tr>\n",
       "      <th>1</th>\n",
       "      <td>From: ab@nova.cc.purdue.edu (Allen B)\\nSubject...</td>\n",
       "      <td>1</td>\n",
       "      <td>comp.graphics</td>\n",
       "    </tr>\n",
       "    <tr>\n",
       "      <th>2</th>\n",
       "      <td>From: healta@saturn.wwc.edu (Tammy R Healy)\\nS...</td>\n",
       "      <td>0</td>\n",
       "      <td>alt.atheism</td>\n",
       "    </tr>\n",
       "    <tr>\n",
       "      <th>3</th>\n",
       "      <td>From: capelli@vnet.IBM.COM (Ron Capelli)\\nSubj...</td>\n",
       "      <td>1</td>\n",
       "      <td>comp.graphics</td>\n",
       "    </tr>\n",
       "    <tr>\n",
       "      <th>4</th>\n",
       "      <td>From: henry@zoo.toronto.edu (Henry Spencer)\\nS...</td>\n",
       "      <td>2</td>\n",
       "      <td>sci.space</td>\n",
       "    </tr>\n",
       "  </tbody>\n",
       "</table>\n",
       "</div>"
      ],
      "text/plain": [
       "                                                text  target       category\n",
       "0  From: degroff@netcom.com (21012d)\\nSubject: Re...       2      sci.space\n",
       "1  From: ab@nova.cc.purdue.edu (Allen B)\\nSubject...       1  comp.graphics\n",
       "2  From: healta@saturn.wwc.edu (Tammy R Healy)\\nS...       0    alt.atheism\n",
       "3  From: capelli@vnet.IBM.COM (Ron Capelli)\\nSubj...       1  comp.graphics\n",
       "4  From: henry@zoo.toronto.edu (Henry Spencer)\\nS...       2      sci.space"
      ]
     },
     "execution_count": 5,
     "metadata": {},
     "output_type": "execute_result"
    }
   ],
   "source": [
    "df.head(5)\n"
   ]
  },
  {
   "cell_type": "code",
   "execution_count": 9,
   "id": "d14ff33c",
   "metadata": {},
   "outputs": [
    {
     "name": "stdout",
     "output_type": "stream",
     "text": [
      "Categories: ['alt.atheism', 'comp.graphics', 'comp.os.ms-windows.misc', 'comp.sys.ibm.pc.hardware', 'comp.sys.mac.hardware', 'comp.windows.x', 'misc.forsale', 'rec.autos', 'rec.motorcycles', 'rec.sport.baseball', 'rec.sport.hockey', 'sci.crypt', 'sci.electronics', 'sci.med', 'sci.space', 'soc.religion.christian', 'talk.politics.guns', 'talk.politics.mideast', 'talk.politics.misc', 'talk.religion.misc']\n"
     ]
    }
   ],
   "source": [
    "#2.import 20 newsgroup dataset from scikit learn datasets\n",
    "from sklearn.datasets import fetch_20newsgroups\n",
    "\n",
    "newsgroups_train = fetch_20newsgroups(subset='train', shuffle=True, random_state=42)\n",
    "print(\"Categories:\", newsgroups_train.target_names)"
   ]
  },
  {
   "cell_type": "code",
   "execution_count": 8,
   "id": "6a0671ac",
   "metadata": {},
   "outputs": [
    {
     "name": "stdout",
     "output_type": "stream",
     "text": [
      "\n",
      "Example text:\n",
      "From: lerxst@wam.umd.edu (where's my thing)\n",
      "Subject: WHAT car is this!?\n",
      "Nntp-Posting-Host: rac3.wam.umd.edu\n",
      "Organization: University of Maryland, College Park\n",
      "Lines: 15\n",
      "\n",
      " I was wondering if anyone out there could enlighten me on this car I saw\n",
      "the other day. It was a 2-door sports car, looked to be from the late 60s/\n",
      "early 70s. It was called a Bricklin. The doors were really small. In addition,\n",
      "the front bumper was separate from the rest of the body. This is \n",
      "all I know. If anyone can tellme a model name, engine specs, years\n",
      "of production, where this car is made, history, or whatever info you\n",
      "have on this funky looking car, please e-mail.\n",
      "\n",
      "Thanks,\n",
      "- IL\n",
      "   ---- brought to you by your neighborhood Lerxst ----\n",
      "\n",
      "\n",
      "\n",
      "\n",
      "\n"
     ]
    }
   ],
   "source": [
    "print(\"\\nExample text:\")\n",
    "print(newsgroups_train.data[0])"
   ]
  },
  {
   "cell_type": "code",
   "execution_count": 10,
   "id": "e4909d7c",
   "metadata": {},
   "outputs": [
    {
     "name": "stdout",
     "output_type": "stream",
     "text": [
      "Categories: ['alt.atheism', 'comp.graphics', 'comp.os.ms-windows.misc', 'comp.sys.ibm.pc.hardware', 'comp.sys.mac.hardware', 'comp.windows.x', 'misc.forsale', 'rec.autos', 'rec.motorcycles', 'rec.sport.baseball', 'rec.sport.hockey', 'sci.crypt', 'sci.electronics', 'sci.med', 'sci.space', 'soc.religion.christian', 'talk.politics.guns', 'talk.politics.mideast', 'talk.politics.misc', 'talk.religion.misc']\n"
     ]
    }
   ],
   "source": [
    "#3.Load 20 news group train subset\n",
    "newsgroups_train = fetch_20newsgroups(subset='train', shuffle=True, random_state=42)\n",
    "print(\"Categories:\", newsgroups_train.target_names)"
   ]
  },
  {
   "cell_type": "code",
   "execution_count": 12,
   "id": "0291fbb6",
   "metadata": {},
   "outputs": [
    {
     "name": "stdout",
     "output_type": "stream",
     "text": [
      "Categories: ['alt.atheism', 'comp.graphics', 'comp.os.ms-windows.misc', 'comp.sys.ibm.pc.hardware', 'comp.sys.mac.hardware', 'comp.windows.x', 'misc.forsale', 'rec.autos', 'rec.motorcycles', 'rec.sport.baseball', 'rec.sport.hockey', 'sci.crypt', 'sci.electronics', 'sci.med', 'sci.space', 'soc.religion.christian', 'talk.politics.guns', 'talk.politics.mideast', 'talk.politics.misc', 'talk.religion.misc']\n"
     ]
    }
   ],
   "source": [
    "#4.Load 20 news group test subset\n",
    "newsgroup_test = fetch_20newsgroups(subset='test', shuffle=True, random_state=42)\n",
    "print(\"Categories:\", newsgroup_test.target_names)"
   ]
  },
  {
   "cell_type": "code",
   "execution_count": 13,
   "id": "168608a4",
   "metadata": {},
   "outputs": [
    {
     "name": "stdout",
     "output_type": "stream",
     "text": [
      "Target labels: [7 4 4 ... 3 1 8]\n",
      "Unique target labels: {np.int64(0), np.int64(1), np.int64(2), np.int64(3), np.int64(4), np.int64(5), np.int64(6), np.int64(7), np.int64(8), np.int64(9), np.int64(10), np.int64(11), np.int64(12), np.int64(13), np.int64(14), np.int64(15), np.int64(16), np.int64(17), np.int64(18), np.int64(19)}\n"
     ]
    }
   ],
   "source": [
    "#5.print all target labels\n",
    "# Print all target labels (numerical category labels)\n",
    "print(\"Target labels:\", newsgroups_train.target)\n",
    "\n",
    "# Print unique target labels\n",
    "print(\"Unique target labels:\", set(newsgroups_train.target))"
   ]
  },
  {
   "cell_type": "code",
   "execution_count": 14,
   "id": "f6110f0a",
   "metadata": {},
   "outputs": [
    {
     "name": "stdout",
     "output_type": "stream",
     "text": [
      "Loaded Categories: ['alt.atheism', 'comp.graphics', 'sci.space']\n",
      "Number of documents: 1657\n",
      "\n",
      "Example text:\n",
      "From: degroff@netcom.com (21012d)\n",
      "Subject: Re: Venus Lander for Venus Conditions.\n",
      "Organization: Netcom Online Communications Services (408-241-9760 login: guest)\n",
      "Lines: 8\n",
      "\n",
      "\n",
      "  I doubt there are good prospects for  a self armoring system\n",
      "for venus surface conditions (several hundred degrees, very high\n",
      "pressure of CO2, possibly sulfuric and nitric acids or oxides\n",
      "but it is a notion to consider for outer planets rs where you might\n",
      "pick up ices under less extream upper atmosphere conditions buying\n",
      "deeper penetration.  A nice creative idea, unlikly but worthy of\n",
      "thinking about.\n",
      "\n",
      "\n",
      "Category: sci.space\n"
     ]
    }
   ],
   "source": [
    "#6 and 7.prepare subset of categories alt.athesssm com.graphics sci.space\n",
    "\n",
    "categories = ['alt.atheism', 'comp.graphics', 'sci.space']\n",
    "\n",
    "# Load the training subset with only selected categories\n",
    "newsgroups_subset = fetch_20newsgroups(subset='train', categories=categories, shuffle=True, random_state=42)\n",
    "\n",
    "# Print the categories in the subset\n",
    "print(\"Loaded Categories:\", newsgroups_subset.target_names)\n",
    "\n",
    "# Print the number of documents in the subset\n",
    "print(\"Number of documents:\", len(newsgroups_subset.data))\n",
    "\n",
    "# Show an example document with its category\n",
    "print(\"\\nExample text:\")\n",
    "print(newsgroups_subset.data[0])\n",
    "print(\"\\nCategory:\", newsgroups_subset.target_names[newsgroups_subset.target[0]])"
   ]
  },
  {
   "cell_type": "code",
   "execution_count": 15,
   "id": "9c08fa0b",
   "metadata": {},
   "outputs": [
    {
     "name": "stdout",
     "output_type": "stream",
     "text": [
      "Categories: ['alt.atheism', 'comp.graphics', 'sci.space']\n",
      "Number of test documents: 1102\n"
     ]
    }
   ],
   "source": [
    "#8.Load 20 news group test subset with three categories alt.atheism,com.graphics, sci.space\n",
    "categories = ['alt.atheism', 'comp.graphics', 'sci.space']\n",
    "newsgroups_test = fetch_20newsgroups(subset='test', categories=categories, shuffle=True, random_state=42)\n",
    "\n",
    "print(\"Categories:\", newsgroups_test.target_names)\n",
    "print(\"Number of test documents:\", len(newsgroups_test.data))"
   ]
  },
  {
   "cell_type": "code",
   "execution_count": 16,
   "id": "d6975944",
   "metadata": {},
   "outputs": [
    {
     "name": "stdout",
     "output_type": "stream",
     "text": [
      "Target Names (Labels): ['alt.atheism', 'comp.graphics', 'sci.space']\n"
     ]
    }
   ],
   "source": [
    "#9.Print new training set target names(Labels)\n",
    "\n",
    "categories = ['alt.atheism', 'comp.graphics', 'sci.space']\n",
    "newsgroups_train = fetch_20newsgroups(subset='train', categories=categories, shuffle=True, random_state=42)\n",
    "\n",
    "print(\"Target Names (Labels):\", newsgroups_train.target_names)"
   ]
  },
  {
   "cell_type": "code",
   "execution_count": 18,
   "id": "277b2d69",
   "metadata": {},
   "outputs": [
    {
     "name": "stdout",
     "output_type": "stream",
     "text": [
      "From: henry@zoo.toronto.edu (Henry Spencer)\n",
      "Subject: Re: TRUE \"GLOBE\", Who makes it?\n",
      "Organization: U of Toronto Zoology\n",
      "Lines: 12\n",
      "\n",
      "In article <bill.047m@xpresso.UUCP> bill@xpresso.UUCP (Bill Vance) writes:\n",
      ">It has been known for quite a while that the earth is actually more pear\n",
      ">shaped than globular/spherical.  Does anyone make a \"globe\" that is accurate\n",
      ">as to actual shape, landmass configuration/Long/Lat lines etc.?\n",
      "\n",
      "I don't think you're going to be able to see the differences from a sphere\n",
      "unless they are greatly exaggerated.  Even the equatorial bulge is only\n",
      "about 1 part in 300 -- you'd never notice a 1mm error in a 30cm globe --\n",
      "and the other deviations from spherical shape are much smaller.\n",
      "-- \n",
      "SVR4 resembles a high-speed collision   | Henry Spencer @ U of Toronto Zoology\n",
      "between SVR3 and SunOS.    - Dick Dunn  |  henry@zoo.toronto.edu  utzoo!henry\n",
      "\n"
     ]
    }
   ],
   "source": [
    "#10. print news training data of 5th article\n",
    "print(newsgroups_train.data[4])"
   ]
  },
  {
   "cell_type": "code",
   "execution_count": 19,
   "id": "293343ae",
   "metadata": {},
   "outputs": [
    {
     "name": "stdout",
     "output_type": "stream",
     "text": [
      "Data shape: 1657\n",
      "Targets shape: 1657\n"
     ]
    }
   ],
   "source": [
    "#11. print shape of data and targets\n",
    "print(\"Data shape:\", len(newsgroups_train.data))\n",
    "print(\"Targets shape:\", len(newsgroups_train.target))"
   ]
  },
  {
   "cell_type": "code",
   "execution_count": 20,
   "id": "a48b71eb",
   "metadata": {},
   "outputs": [
    {
     "name": "stdout",
     "output_type": "stream",
     "text": [
      "['/home/user/scikit_learn_data/20news_home/20news-bydate-train/sci.space/60869'\n",
      " '/home/user/scikit_learn_data/20news_home/20news-bydate-train/comp.graphics/38633'\n",
      " '/home/user/scikit_learn_data/20news_home/20news-bydate-train/alt.atheism/53534'\n",
      " ...\n",
      " '/home/user/scikit_learn_data/20news_home/20news-bydate-train/sci.space/60915'\n",
      " '/home/user/scikit_learn_data/20news_home/20news-bydate-train/sci.space/60176'\n",
      " '/home/user/scikit_learn_data/20news_home/20news-bydate-train/sci.space/60929']\n"
     ]
    }
   ],
   "source": [
    "#12 print training set filenames\n",
    "print(newsgroups_train.filenames)"
   ]
  },
  {
   "cell_type": "code",
   "execution_count": 21,
   "id": "ed08823e",
   "metadata": {},
   "outputs": [
    {
     "name": "stdout",
     "output_type": "stream",
     "text": [
      "Shape of transformed training data: (1657, 29663)\n"
     ]
    }
   ],
   "source": [
    "#13.by using Count vectorizer train data into numerical format considering\n",
    "from sklearn.feature_extraction.text import CountVectorizer\n",
    "\n",
    "vectorizer = CountVectorizer()\n",
    "X_train_counts = vectorizer.fit_transform(newsgroups_train.data)\n",
    "\n",
    "print(\"Shape of transformed training data:\", X_train_counts.shape)"
   ]
  },
  {
   "cell_type": "code",
   "execution_count": 31,
   "id": "4dc2acba",
   "metadata": {},
   "outputs": [],
   "source": [
    "X_train = X_train_counts.toarray()"
   ]
  },
  {
   "cell_type": "code",
   "execution_count": 32,
   "id": "f07cd019",
   "metadata": {},
   "outputs": [
    {
     "data": {
      "text/plain": [
       "array([[0, 0, 0, ..., 0, 0, 0],\n",
       "       [0, 0, 0, ..., 0, 0, 0],\n",
       "       [0, 0, 0, ..., 0, 0, 0],\n",
       "       ...,\n",
       "       [0, 0, 0, ..., 0, 0, 0],\n",
       "       [0, 0, 0, ..., 0, 0, 0],\n",
       "       [0, 0, 0, ..., 0, 0, 0]], shape=(1657, 29663))"
      ]
     },
     "execution_count": 32,
     "metadata": {},
     "output_type": "execute_result"
    }
   ],
   "source": [
    "X_train"
   ]
  },
  {
   "cell_type": "code",
   "execution_count": 24,
   "id": "5a7500af",
   "metadata": {},
   "outputs": [
    {
     "name": "stdout",
     "output_type": "stream",
     "text": [
      "Model training complete.\n"
     ]
    }
   ],
   "source": [
    "#14.use bernouliNB for training\n",
    "from sklearn.naive_bayes import BernoulliNB\n",
    "\n",
    "# Initialize and train Bernoulli Naive Bayes model\n",
    "clf = BernoulliNB()\n",
    "clf.fit(X_train_counts, newsgroups_train.target)\n",
    "\n",
    "print(\"Model training complete.\")\n"
   ]
  },
  {
   "cell_type": "code",
   "execution_count": 25,
   "id": "3ae394e8",
   "metadata": {},
   "outputs": [
    {
     "name": "stdout",
     "output_type": "stream",
     "text": [
      "Shape of transformed test data: (1102, 29663)\n"
     ]
    }
   ],
   "source": [
    "#15.by using countvectorizer convert test data into numeric format considering only\n",
    "X_test_counts = vectorizer.transform(newsgroups_test.data)\n",
    "print(\"Shape of transformed test data:\", X_test_counts.shape)"
   ]
  },
  {
   "cell_type": "code",
   "execution_count": 26,
   "id": "108aa729",
   "metadata": {},
   "outputs": [
    {
     "name": "stdout",
     "output_type": "stream",
     "text": [
      "Predicted target labels: [2 1 1 ... 0 1 2]\n"
     ]
    }
   ],
   "source": [
    "#16.predict target labels for testing set\n",
    "y_pred = clf.predict(X_test_counts)\n",
    "print(\"Predicted target labels:\", y_pred)# Convert Boolean to Integer (Optional)\n"
   ]
  },
  {
   "cell_type": "code",
   "execution_count": 27,
   "id": "1b598795",
   "metadata": {},
   "outputs": [
    {
     "name": "stdout",
     "output_type": "stream",
     "text": [
      "Accuracy Score: 0.852994555353902\n"
     ]
    }
   ],
   "source": [
    "#17.find accuracy score for testing set\n",
    "\n",
    "from sklearn.metrics import accuracy_score\n",
    "\n",
    "accuracy = accuracy_score(newsgroups_test.target, y_pred)\n",
    "print(\"Accuracy Score:\", accuracy)"
   ]
  },
  {
   "cell_type": "code",
   "execution_count": 28,
   "id": "ebe3ed2b",
   "metadata": {},
   "outputs": [
    {
     "name": "stdout",
     "output_type": "stream",
     "text": [
      "Accuracy: 0.9473684210526315\n"
     ]
    }
   ],
   "source": [
    "#18.used Tfidfvectorizer instead of count vectorizer and use multinomial NB\n",
    "from sklearn.feature_extraction.text import TfidfVectorizer\n",
    "from sklearn.naive_bayes import MultinomialNB\n",
    "from sklearn.metrics import accuracy_score\n",
    "\n",
    "tfidf_vectorizer = TfidfVectorizer()\n",
    "X_train_tfidf = tfidf_vectorizer.fit_transform(newsgroups_train.data)\n",
    "X_test_tfidf = tfidf_vectorizer.transform(newsgroups_test.data)\n",
    "\n",
    "clf_tfidf = MultinomialNB().fit(X_train_tfidf, newsgroups_train.target)\n",
    "y_pred_tfidf = clf_tfidf.predict(X_test_tfidf)\n",
    "\n",
    "print(\"Accuracy:\", accuracy_score(newsgroups_test.target, y_pred_tfidf))"
   ]
  },
  {
   "cell_type": "code",
   "execution_count": 29,
   "id": "e77b3c7c",
   "metadata": {},
   "outputs": [
    {
     "name": "stdout",
     "output_type": "stream",
     "text": [
      "Test Set Accuracy: 0.9473684210526315\n"
     ]
    }
   ],
   "source": [
    "#19.find test set accuracy\n",
    "from sklearn.metrics import accuracy_score\n",
    "\n",
    "accuracy = accuracy_score(newsgroups_test.target, y_pred_tfidf)\n",
    "print(\"Test Set Accuracy:\", accuracy)"
   ]
  },
  {
   "cell_type": "code",
   "execution_count": null,
   "id": "63ba4958",
   "metadata": {},
   "outputs": [],
   "source": [
    "#try with avoiding stopwords and repeat the same"
   ]
  }
 ],
 "metadata": {
  "kernelspec": {
   "display_name": "Python 3 (ipykernel)",
   "language": "python",
   "name": "python3"
  },
  "language_info": {
   "codemirror_mode": {
    "name": "ipython",
    "version": 3
   },
   "file_extension": ".py",
   "mimetype": "text/x-python",
   "name": "python",
   "nbconvert_exporter": "python",
   "pygments_lexer": "ipython3",
   "version": "3.10.12"
  }
 },
 "nbformat": 4,
 "nbformat_minor": 5
}
