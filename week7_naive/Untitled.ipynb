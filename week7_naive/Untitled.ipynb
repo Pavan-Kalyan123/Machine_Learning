{
 "cells": [
  {
   "cell_type": "code",
   "execution_count": 1,
   "id": "380535b4",
   "metadata": {},
   "outputs": [],
   "source": [
    "import numpy as np\n",
    "import pandas as pd\n",
    "import matplotlib.pyplot as plt\n",
    "from sklearn.datasets import fetch_20newsgroups\n",
    "from sklearn.feature_extraction.text import CountVectorizer, TfidfVectorizer\n",
    "from sklearn.naive_bayes import BernoulliNB, MultinomialNB\n",
    "from sklearn.metrics import accuracy_score"
   ]
  },
  {
   "cell_type": "code",
   "execution_count": 2,
   "id": "4b382f13",
   "metadata": {},
   "outputs": [],
   "source": [
    "news_data = fetch_20newsgroups(subset='all', shuffle=True, random_state=42)"
   ]
  },
  {
   "cell_type": "code",
   "execution_count": 3,
   "id": "041da5f4",
   "metadata": {},
   "outputs": [],
   "source": [
    "news_train = fetch_20newsgroups(subset='train', shuffle=True, random_state=42)"
   ]
  },
  {
   "cell_type": "code",
   "execution_count": 4,
   "id": "788b53e1",
   "metadata": {},
   "outputs": [],
   "source": [
    "news_test = fetch_20newsgroups(subset='test', shuffle=True, random_state=42)"
   ]
  },
  {
   "cell_type": "code",
   "execution_count": 5,
   "id": "3cd976a8",
   "metadata": {},
   "outputs": [
    {
     "name": "stdout",
     "output_type": "stream",
     "text": [
      "['alt.atheism', 'comp.graphics', 'comp.os.ms-windows.misc', 'comp.sys.ibm.pc.hardware', 'comp.sys.mac.hardware', 'comp.windows.x', 'misc.forsale', 'rec.autos', 'rec.motorcycles', 'rec.sport.baseball', 'rec.sport.hockey', 'sci.crypt', 'sci.electronics', 'sci.med', 'sci.space', 'soc.religion.christian', 'talk.politics.guns', 'talk.politics.mideast', 'talk.politics.misc', 'talk.religion.misc']\n"
     ]
    }
   ],
   "source": [
    "print(news_train.target_names)"
   ]
  },
  {
   "cell_type": "code",
   "execution_count": 6,
   "id": "cd318334",
   "metadata": {},
   "outputs": [],
   "source": [
    "categories = ['alt.atheism', 'comp.graphics', 'sci.space']"
   ]
  },
  {
   "cell_type": "code",
   "execution_count": 7,
   "id": "d2b35da9",
   "metadata": {},
   "outputs": [],
   "source": [
    "news_train = fetch_20newsgroups(subset='train', categories=categories, shuffle=True, random_state=42)"
   ]
  },
  {
   "cell_type": "code",
   "execution_count": 8,
   "id": "e895daf3",
   "metadata": {},
   "outputs": [],
   "source": [
    "news_test = fetch_20newsgroups(subset='test', categories=categories, shuffle=True, random_state=42)"
   ]
  },
  {
   "cell_type": "code",
   "execution_count": 9,
   "id": "b3fb5d2a",
   "metadata": {},
   "outputs": [
    {
     "name": "stdout",
     "output_type": "stream",
     "text": [
      "['alt.atheism', 'comp.graphics', 'sci.space']\n"
     ]
    }
   ],
   "source": [
    "print(news_train.target_names)"
   ]
  },
  {
   "cell_type": "code",
   "execution_count": 10,
   "id": "6a3fb343",
   "metadata": {},
   "outputs": [
    {
     "name": "stdout",
     "output_type": "stream",
     "text": [
      "From: henry@zoo.toronto.edu (Henry Spencer)\n",
      "Subject: Re: TRUE \"GLOBE\", Who makes it?\n",
      "Organization: U of Toronto Zoology\n",
      "Lines: 12\n",
      "\n",
      "In article <bill.047m@xpresso.UUCP> bill@xpresso.UUCP (Bill Vance) writes:\n",
      ">It has been known for quite a while that the earth is actually more pear\n",
      ">shaped than globular/spherical.  Does anyone make a \"globe\" that is accurate\n",
      ">as to actual shape, landmass configuration/Long/Lat lines etc.?\n",
      "\n",
      "I don't think you're going to be able to see the differences from a sphere\n",
      "unless they are greatly exaggerated.  Even the equatorial bulge is only\n",
      "about 1 part in 300 -- you'd never notice a 1mm error in a 30cm globe --\n",
      "and the other deviations from spherical shape are much smaller.\n",
      "-- \n",
      "SVR4 resembles a high-speed collision   | Henry Spencer @ U of Toronto Zoology\n",
      "between SVR3 and SunOS.    - Dick Dunn  |  henry@zoo.toronto.edu  utzoo!henry\n",
      "\n"
     ]
    }
   ],
   "source": [
    "print(news_train.data[4])"
   ]
  },
  {
   "cell_type": "code",
   "execution_count": 11,
   "id": "62923ee1",
   "metadata": {},
   "outputs": [
    {
     "name": "stdout",
     "output_type": "stream",
     "text": [
      "1657 1657\n"
     ]
    }
   ],
   "source": [
    "print(len(news_train.data), len(news_train.target))"
   ]
  },
  {
   "cell_type": "code",
   "execution_count": 12,
   "id": "cd2d3911",
   "metadata": {},
   "outputs": [
    {
     "name": "stdout",
     "output_type": "stream",
     "text": [
      "['/home/user/scikit_learn_data/20news_home/20news-bydate-train/sci.space/60869'\n",
      " '/home/user/scikit_learn_data/20news_home/20news-bydate-train/comp.graphics/38633'\n",
      " '/home/user/scikit_learn_data/20news_home/20news-bydate-train/alt.atheism/53534'\n",
      " ...\n",
      " '/home/user/scikit_learn_data/20news_home/20news-bydate-train/sci.space/60915'\n",
      " '/home/user/scikit_learn_data/20news_home/20news-bydate-train/sci.space/60176'\n",
      " '/home/user/scikit_learn_data/20news_home/20news-bydate-train/sci.space/60929']\n"
     ]
    }
   ],
   "source": [
    "print(news_train.filenames)"
   ]
  },
  {
   "cell_type": "code",
   "execution_count": 13,
   "id": "10089de5",
   "metadata": {},
   "outputs": [],
   "source": [
    "vectorizer = CountVectorizer()\n",
    "X_train_counts = vectorizer.fit_transform(news_train.data)"
   ]
  },
  {
   "cell_type": "code",
   "execution_count": 14,
   "id": "7af99db7",
   "metadata": {},
   "outputs": [],
   "source": [
    "clf = BernoulliNB().fit(X_train_counts, news_train.target)"
   ]
  },
  {
   "cell_type": "code",
   "execution_count": 15,
   "id": "7cfebfae",
   "metadata": {},
   "outputs": [],
   "source": [
    "X_test_counts = vectorizer.transform(news_test.data)"
   ]
  },
  {
   "cell_type": "code",
   "execution_count": 16,
   "id": "a33b49ec",
   "metadata": {},
   "outputs": [],
   "source": [
    "y_pred = clf.predict(X_test_counts)"
   ]
  },
  {
   "cell_type": "code",
   "execution_count": 17,
   "id": "1dee2730",
   "metadata": {},
   "outputs": [
    {
     "name": "stdout",
     "output_type": "stream",
     "text": [
      "0.852994555353902\n"
     ]
    }
   ],
   "source": [
    "print(accuracy_score(news_test.target, y_pred))"
   ]
  },
  {
   "cell_type": "code",
   "execution_count": 18,
   "id": "6e3b316f",
   "metadata": {},
   "outputs": [],
   "source": [
    "tfidf_vectorizer = TfidfVectorizer()\n",
    "X_train_tfidf = tfidf_vectorizer.fit_transform(news_train.data)\n",
    "X_test_tfidf = tfidf_vectorizer.transform(news_test.data)\n",
    "\n",
    "clf_tfidf = MultinomialNB().fit(X_train_tfidf, news_train.target)\n",
    "y_pred_tfidf = clf_tfidf.predict(X_test_tfidf)"
   ]
  },
  {
   "cell_type": "code",
   "execution_count": 19,
   "id": "f88dfefe",
   "metadata": {},
   "outputs": [
    {
     "name": "stdout",
     "output_type": "stream",
     "text": [
      "0.9473684210526315\n"
     ]
    }
   ],
   "source": [
    "print(accuracy_score(news_test.target, y_pred_tfidf))"
   ]
  },
  {
   "cell_type": "code",
   "execution_count": 20,
   "id": "d5e9ba69",
   "metadata": {},
   "outputs": [
    {
     "name": "stdout",
     "output_type": "stream",
     "text": [
      "0.9555353901996371\n"
     ]
    }
   ],
   "source": [
    "tfidf_vectorizer = TfidfVectorizer(stop_words='english')\n",
    "X_train_tfidf = tfidf_vectorizer.fit_transform(news_train.data)\n",
    "X_test_tfidf = tfidf_vectorizer.transform(news_test.data)\n",
    "\n",
    "clf_tfidf = MultinomialNB().fit(X_train_tfidf, news_train.target)\n",
    "y_pred_tfidf = clf_tfidf.predict(X_test_tfidf)\n",
    "\n",
    "print(accuracy_score(news_test.target, y_pred_tfidf))"
   ]
  },
  {
   "cell_type": "code",
   "execution_count": null,
   "id": "82df0ab0",
   "metadata": {},
   "outputs": [],
   "source": []
  }
 ],
 "metadata": {
  "kernelspec": {
   "display_name": "Python 3 (ipykernel)",
   "language": "python",
   "name": "python3"
  },
  "language_info": {
   "codemirror_mode": {
    "name": "ipython",
    "version": 3
   },
   "file_extension": ".py",
   "mimetype": "text/x-python",
   "name": "python",
   "nbconvert_exporter": "python",
   "pygments_lexer": "ipython3",
   "version": "3.10.12"
  }
 },
 "nbformat": 4,
 "nbformat_minor": 5
}
